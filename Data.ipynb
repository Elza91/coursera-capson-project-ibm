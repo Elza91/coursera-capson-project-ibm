{
  "nbformat": 4,
  "nbformat_minor": 0,
  "metadata": {
    "colab": {
      "name": "Data.ipynb",
      "provenance": [],
      "collapsed_sections": []
    },
    "kernelspec": {
      "name": "python3",
      "display_name": "Python 3"
    },
    "language_info": {
      "name": "python"
    }
  },
  "cells": [
    {
      "cell_type": "markdown",
      "metadata": {
        "id": "ayIGowZn18Wa"
      },
      "source": [
        "\n",
        "\n",
        "> **<h1>ANALYSING NEIGHBOURHOODS OF BARCELONA FOR STARTING SPANISH RESTAURANT.<h1>**\n",
        "\n",
        "Con't\n",
        "\n",
        "<h3> IBM <h3>\n",
        "\n"
      ]
    },
    {
      "cell_type": "markdown",
      "metadata": {
        "id": "YSYZVUG22PPs"
      },
      "source": [
        "4. Data:"
      ]
    },
    {
      "cell_type": "markdown",
      "metadata": {
        "id": "MUj3mhcl2PdO"
      },
      "source": [
        "I'll use to three data origens:\n",
        "1. From geopy which convert an address into latitude and longitude values.\n",
        "2. From FourSquare API\n",
        "3. From Wikipedia: https://en.wikipedia.org/wiki/Category:Neighbourhoods_of_Barcelona\n",
        "\n"
      ]
    },
    {
      "cell_type": "markdown",
      "metadata": {
        "id": "QJr6vKBd3mxM"
      },
      "source": [
        "All of these, I'll use to create a folium to discover some oportunities for my spanish restaurant."
      ]
    }
  ]
}