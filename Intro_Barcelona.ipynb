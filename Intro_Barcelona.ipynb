{
  "nbformat": 4,
  "nbformat_minor": 0,
  "metadata": {
    "colab": {
      "name": "Intro Barcelona.ipynb",
      "provenance": [],
      "collapsed_sections": []
    },
    "kernelspec": {
      "name": "python3",
      "display_name": "Python 3"
    },
    "language_info": {
      "name": "python"
    }
  },
  "cells": [
    {
      "cell_type": "markdown",
      "metadata": {
        "id": "D7CxrVzfaQGu"
      },
      "source": [
        "\n",
        "\n",
        "**> <H1>ANALYSING NEIGHBOURHOODS OF BARCELONA FOR STARTING SPANISH RESTAURANT.<H1>**\n",
        "\n",
        "\n",
        "\n",
        "> <H3> IBM CAPSTONE <H3>\n",
        "\n",
        "\n",
        "\n",
        "\n",
        "\n",
        "\n"
      ]
    },
    {
      "cell_type": "markdown",
      "metadata": {
        "id": "Uf7efuDFa-QN"
      },
      "source": [
        "1. Introduction:\n"
      ]
    },
    {
      "cell_type": "markdown",
      "metadata": {
        "id": "--8eL1NLa-bK"
      },
      "source": [
        "I'm a Data Science but I would like to start a Spanish Restaurant in Barcelona. There are any problems. First, Barcelona is a turistic city so, there are too many restaurants. Second, Barcelona is Catalonia capital so, Spanish cusine is very popular in there. Thirt, is more probably turisc eat in their Hotel but they going to eat a spanish traditional food. "
      ]
    },
    {
      "cell_type": "markdown",
      "metadata": {
        "id": "emSpsKmIdQOu"
      },
      "source": [
        "2. How I resolve this problem?"
      ]
    },
    {
      "cell_type": "markdown",
      "metadata": {
        "id": "e7WQL6T5dQMF"
      },
      "source": [
        "I focuse to research better hotels in Barcelona and I'll investigate how many restaurants are around in there. After these, I study some good opotunities in different locations to start my Spanish Restaurant. Finally, I decide search it around Majestic Hotel because it has good location, transport and turism transit. it's perfect to me and my future smart restaurant. \n"
      ]
    },
    {
      "cell_type": "markdown",
      "metadata": {
        "id": "fbEZR65hdQJm"
      },
      "source": [
        "3. Target public:"
      ]
    },
    {
      "cell_type": "markdown",
      "metadata": {
        "id": "6q0aJfOcdQG1"
      },
      "source": [
        "My target public are turism that want to taste tipic catalan and spanich food with since smart vision. I hope age people between 30-50 years who love food experience and to discover news and locals products. However, this target may be local people who want same experience a good price. I think, my clients are interesting in food ecological products, natural tractaments and smart calid descoration. Their motto is: 'food is not only food, it's brillian and canonical experience of life'."
      ]
    }
  ]
}